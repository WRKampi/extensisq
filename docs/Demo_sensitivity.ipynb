{
 "cells": [
  {
   "attachments": {},
   "cell_type": "markdown",
   "metadata": {},
   "source": [
    "# Sensitivity analysis\n",
    "\n",
    "Extensisq contains a couple functions to help with sensitivity analysis of an ODE solution to parameters (including initial values). This can be useful for finding periodic solutions, data fitting, or for solving boundary value problems using a shooting method. This notebook demonstrates the three types of sensitivity methods that are implemented: `sens_forward`, `sens_adjoint_end` and `sens_adjoint_int`.\n",
    "\n",
    "Implementation of the sensitivity methods is based on the [CVODES paper](https://computing.llnl.gov/sites/default/files/toms_cvodes_with_covers.pdf). The extensisq methods can be used with any scipy or extensisq integration method, but does not have optimizations for any.\n",
    "\n",
    "## Forward sensitivity analysis\n",
    "\n",
    "The general initial value problem with parameters $\\boldsymbol{p}$ is:\n",
    "$$ \\dot{\\boldsymbol{y}} = \\boldsymbol{f}(t, \\boldsymbol{y}, \\boldsymbol{p}), \\qquad \\boldsymbol{y}(t_0) = \\boldsymbol{y}_0(\\boldsymbol{p}) $$\n",
    "\n",
    "The goal of forward sensitivity analysis is to find the matrix $\\boldsymbol{S} = \\frac{d \\boldsymbol{y}}{d \\boldsymbol{p}}$ over the integration interval, or just at the endpoint $t_f$.\n",
    "\n",
    "The columns of $\\boldsymbol{S}$ are $\\boldsymbol{s}_i = \\frac{d \\boldsymbol{y}}{d p_i}$, one for each parameter. These columns are calculated from the initial value problem:\n",
    "$$ \\dot{\\boldsymbol{s}}_i = \\frac{\\partial \\boldsymbol{f}}{\\partial \\boldsymbol{y}} \\boldsymbol{s}_i + \\frac{\\partial \\boldsymbol{f}}{\\partial p_i}, \\qquad \\boldsymbol{s}_i(t_0) = \\frac{\\partial \\boldsymbol{y}_0(\\boldsymbol{p})}{\\partial p_i} $$\n",
    "where $\\frac{\\partial \\boldsymbol{f}}{\\partial \\boldsymbol{y}}$ is the (square) Jacobian matrix of the IVP of $\\boldsymbol{y}$.\n",
    "\n",
    "The function `sens_forward` integrates the IVPs of $\\boldsymbol{y}$ and all $\\boldsymbol{s}_i$ together. The complete problem has size $N_y(1+N_p)$, which can be quite big. The function needs quite a few mandatory arguments:"
   ]
  },
  {
   "cell_type": "code",
   "execution_count": 123,
   "metadata": {},
   "outputs": [
    {
     "name": "stdout",
     "output_type": "stream",
     "text": [
      "Help on function sens_forward in module extensisq.sensitivity:\n",
      "\n",
      "sens_forward(fun, t_span, y0, jac, dfdp, dy0dp, p, atol=1e-06, rtol=0.001, method=<class 'extensisq.bogacki.BS5'>, dense_output=False, t_eval=None, use_approx_jac=False)\n",
      "    Forward sensitivity analysis of an initial value problem.\n",
      "    \n",
      "    The method is called forward sensitivity analysis by [1]_ and internal\n",
      "    differentiation by [2]_.\n",
      "    \n",
      "    The initial value problem is:\n",
      "        dy = fun(t, y, p),    y(t0) = y0(p)\n",
      "    \n",
      "    And the result of interest is dy/dp over the integration interval and\n",
      "    specifically at the endpoint (tf). The problem that is solved internally\n",
      "    has size ny*(np+1).\n",
      "    \n",
      "    Parameters\n",
      "    ----------\n",
      "    fun : callable\n",
      "        The function of the ODE that is solved with solve_ivp. The calling\n",
      "        signature is fun(t, y, *p). It should return an array of length (ny,).\n",
      "        (Same as for calling solve_ivp)\n",
      "    t_span : 2-tuple of floats\n",
      "        Interval of integration (t0, tf). The solver starts with t=t0 and\n",
      "        integrates until it reaches t=tf. (Same as for calling solve_ivp)\n",
      "    y0 : array_like, shape (ny,)\n",
      "        Initial state. (Same as for calling solve_ivp)\n",
      "    jac : callable\n",
      "        function with signature jac(t, y, *p) that returns the Jacobian\n",
      "        dfun/dy as an array of size (ny,ny). Unlike for solve_ivp, this is not\n",
      "        optional and jac should be callable.\n",
      "    dfdp : callable\n",
      "        function with signature dfdp(t, y, *p) that returns dfun/dp as an\n",
      "        array of size (ny,np).\n",
      "    dy0dp : array_like, shape (ny,np)\n",
      "        Derivative dy0/dp of the initial solution y0 to the parameter p.\n",
      "    p : array_like, shape (np,)\n",
      "        contains the values of the parameters.\n",
      "    atol : float, or sequence of length ny, optional\n",
      "        The absolute tolerance for solve_ivp used for solution y. The atol for\n",
      "        the sensitivity parameters is atol/p_i if p_i is not 0 and atol\n",
      "        otherwise. Default: 1e-6.\n",
      "    rtol : float, optional\n",
      "        The relative tolerance for solve_ivp (used for y and sensitivity).\n",
      "        Default: 1e-3.\n",
      "    method : solver class or string, optional\n",
      "        The ODE solver that is used. Default: BS5\n",
      "    dense_output : bool, optional\n",
      "        Set this to True if you want the output sol to have a dense output.\n",
      "        Default: False\n",
      "    t_eval : array_like or None, optional\n",
      "        array of output points. The last point in `t_eval` should equal\n",
      "        t_span[-1]. Default: None\n",
      "    use_approx_jac : bool, optional\n",
      "        Use an approximate jacobian for the combined problem. This is only\n",
      "        relevant for implicit methods. This can save functions calls to\n",
      "        determine the jacobian numerically, but convergence with an incomplete\n",
      "        jacobian depends on the solver. Default: False\n",
      "    \n",
      "    Returns\n",
      "    -------\n",
      "    sensf : array, shape (ny, np)\n",
      "        The sensitivity dy/dp at the endpoint.\n",
      "    yf : array, shape (n, )\n",
      "        The solution at the endpoint.\n",
      "    sol : OdeSolution\n",
      "        The solver output containing the combined problem (flattened).\n",
      "    \n",
      "    References\n",
      "    ----------\n",
      "    .. [1] R. Serban, A.C. Hindmarsh, \"CVODES: An ODE Solver with Sensitivity\n",
      "           Analysis Capabilities\", 2003\n",
      "    .. [2] E. Hairer, G. Wanner, S.P. Norsett, \"Solving Ordinary Differential\n",
      "           Equations I\", Springer Berlin, Heidelberg, 1993,\n",
      "           https://doi.org/10.1007/978-3-540-78862-1\n",
      "\n"
     ]
    }
   ],
   "source": [
    "from extensisq import sens_forward\n",
    "\n",
    "help(sens_forward)"
   ]
  },
  {
   "attachments": {},
   "cell_type": "markdown",
   "metadata": {},
   "source": [
    "The arguments `fun`, `t_span`, `y0` and `jac` are known from `solve_ivp`. The main difference is that `jac` is mandatory for `sens_forward`. Important new arguments are `dfdp`, `dy0dp`, and `p`, which can be recognized in the equations above.\n",
    "\n",
    "I use the example from the book of [Hairer](https://doi.org/10.1007/978-3-540-78862-1) under \"internal differentiation\" to demonstrate `sens_forward`. It is the Brusselator problem, integrated from $t_0 = 0$ to $t_f = 20$. There is just one parameter: `B`. The required arguments are:"
   ]
  },
  {
   "cell_type": "code",
   "execution_count": 124,
   "metadata": {},
   "outputs": [],
   "source": [
    "t_span = [0., 20.]\n",
    "B = 3.08\n",
    "\n",
    "def fun(x, y, B):\n",
    "    y1, y2 = y\n",
    "    f1 = 1 + y1**2 * y2 - (B + 1) * y1\n",
    "    f2 = B * y1 - y1**2 * y2\n",
    "    return [f1, f2]\n",
    "\n",
    "y0 = [1.3, B]\n",
    "\n",
    "def jac(x, y, B):\n",
    "    y1, y2 = y\n",
    "    df1dy1 = 2 * y1 * y2 - (B + 1)\n",
    "    df1dy2 = y1**2\n",
    "    df2dy1 = B - 2 * y1 * y2\n",
    "    df2dy2 = -y1**2\n",
    "    return [[df1dy1, df1dy2], [df2dy1, df2dy2]]\n",
    "\n",
    "def dfdp(x, y, B):\n",
    "    y1, y2 = y\n",
    "    df1dB = -y1\n",
    "    df2dB = y1\n",
    "    return [[df1dB], [df2dB]]\n",
    "\n",
    "dy0dp = [[0.], [1.]]\n",
    "\n",
    "p = [B]"
   ]
  },
  {
   "attachments": {},
   "cell_type": "markdown",
   "metadata": {},
   "source": [
    "The sensitivity is now calculated  using `sens_forward`:"
   ]
  },
  {
   "cell_type": "code",
   "execution_count": 125,
   "metadata": {},
   "outputs": [
    {
     "name": "stdout",
     "output_type": "stream",
     "text": [
      "solution y(tf)\n",
      "  [0.43879864 4.59277326]\n",
      "sensitivity S(tf)\n",
      " [[-0.54419248]\n",
      " [-0.01428222]]\n"
     ]
    }
   ],
   "source": [
    "\n",
    "sens = sens_forward(fun, t_span, y0, jac, dfdp, dy0dp, p, rtol=1e-6)\n",
    "\n",
    "print('solution y(tf)\\n ', sens.yf)\n",
    "print('sensitivity S(tf)\\n', sens.sensf)\n"
   ]
  },
  {
   "attachments": {},
   "cell_type": "markdown",
   "metadata": {},
   "source": [
    "The printed output is the solution and sensitivity at the end point. The output tuple also contains the OdeResult object of the integration (in `sens.sol`). We could take a look at how the results vary over time."
   ]
  },
  {
   "cell_type": "code",
   "execution_count": 126,
   "metadata": {},
   "outputs": [
    {
     "name": "stdout",
     "output_type": "stream",
     "text": [
      "nr of function evaluations: 995\n"
     ]
    },
    {
     "data": {
      "image/png": "[encoded data removed]",
      "text/plain": [
       "<Figure size 640x480 with 2 Axes>"
      ]
     },
     "metadata": {},
     "output_type": "display_data"
    }
   ],
   "source": [
    "sol = sens.sol\n",
    "print('nr of function evaluations:', sol.nfev)\n",
    "\n",
    "import matplotlib.pyplot as plt\n",
    "\n",
    "fig, axs = plt.subplots(2, sharex=True)\n",
    "\n",
    "axs[0].plot(sol.t, sol.y[:2, :].T, '.:')\n",
    "axs[1].plot(sol.t, sol.y[2:, :].T, '.:')\n",
    "axs[1].set_xlabel('time')\n",
    "axs[0].set_ylabel('solution')\n",
    "axs[1].set_ylabel('sensitivity')\n",
    "axs[0].legend(['y[0]', 'y[1]'])\n",
    "axs[1].legend([r'$s[0]$', \n",
    "               r'$s[1]$'])\n",
    "plt.tight_layout()\n",
    "plt.show()"
   ]
  },
  {
   "attachments": {},
   "cell_type": "markdown",
   "metadata": {},
   "source": [
    "Notice how y and s are concatenated in the solution output. Neither the solution nor the sensitivity are smooth.\n",
    "\n",
    "### Validation\n",
    "\n",
    "Hairer shows a figure in his book with the sensitivities at $t_f$ of this problem for a few different values of $B$. This result can serve as a kind of validation of the `sens_forward` function. Let's try to reproduce it."
   ]
  },
  {
   "cell_type": "code",
   "execution_count": 127,
   "metadata": {},
   "outputs": [
    {
     "data": {
      "image/png": "[encoded data removed]",
      "text/plain": [
       "<Figure size 640x480 with 1 Axes>"
      ]
     },
     "metadata": {},
     "output_type": "display_data"
    }
   ],
   "source": [
    "import numpy as np\n",
    "\n",
    "results = []\n",
    "Bs = np.linspace(2.88, 3.08, 20)\n",
    "for B in Bs:\n",
    "    y0 = [1.3, B]\n",
    "    dy0dp = [[0.], [1.]]    # not dependent on B in this case\n",
    "    _sens, _, _ = sens_forward(fun, t_span, y0, jac, dfdp, dy0dp, (B,))\n",
    "    results.append(_sens.squeeze())\n",
    "\n",
    "plt.plot(Bs, results, '.:')\n",
    "plt.grid()\n",
    "plt.xlim(Bs[0], Bs[-1])\n",
    "plt.xlabel(\"parameter B\")\n",
    "plt.ylabel(r\"sensitivity $ {d y}/{d B}|_{t_f}$\")\n",
    "plt.legend(['s[0]', \n",
    "            's[1]'])\n",
    "plt.show()"
   ]
  },
  {
   "attachments": {},
   "cell_type": "markdown",
   "metadata": {},
   "source": [
    "This figure resembles Hairer's figure quite well."
   ]
  },
  {
   "attachments": {},
   "cell_type": "markdown",
   "metadata": {},
   "source": [
    "## Adjoint sensitivity, end point\n",
    "\n",
    "Forward sensitivity analysis calculates the sensitivity to all solution components $y$. It becomes computationally costly if both the number of solution components and the number of parameters are large. If your are not interested in the sensitivity of the solution, but rather a scalar value that is a function of the solution, then adjoint sensitivity analysis can be much more efficient. \n",
    "\n",
    "So, we have a scalar function of the solution:\n",
    "$$g(t, \\boldsymbol{y}, \\boldsymbol{p})$$\n",
    "Extensisq's function `sens_adjoint_end` can now calculate the sensitivity at the end point:\n",
    "$$ \\frac{d g}{d \\boldsymbol{p}}(t_f) = \\frac{\\partial g}{\\partial \\boldsymbol{p}}(t_f) + \\boldsymbol{\\mu}^T (t_0) \\boldsymbol{S}(t_0) + \\int_{t_0}^{t_f} \\boldsymbol{\\mu}^T \\frac{\\partial \\boldsymbol{f}}{\\partial \\boldsymbol{p}} dt $$\n",
    "\n",
    "And $\\boldsymbol{\\mu}$ is calculated from the final value problem:\n",
    "$$ \\dot{\\boldsymbol{\\mu}} = - \\left( \\frac{\\partial \\boldsymbol{f}}{\\partial {\\boldsymbol{y}}} \\right)^T \\boldsymbol{\\mu}, \\qquad \\boldsymbol{\\mu}(t_f) = \\left( \\frac{\\partial g}{\\partial {\\boldsymbol{y}}}(t_f) \\right)^T $$\n",
    "\n",
    "This adjoint sensitivity problem is solved in two steps. First the solution $\\boldsymbol{y}$ is solved by a normal ODE integration, with dense output. Second, the solution $\\boldsymbol{\\mu}$ is solved by backward integration of the adjoint problem. The transpose of the jacobian can be evaluated, because the value of $y$ is known from the first step. The definite integral in the sensitivity equation can be evaluated separately (if $\\boldsymbol{\\mu}$ is solved with dense output as well). However, `sens_adjoint_end` integrates it by appending it to the backward integration in the second step."
   ]
  },
  {
   "cell_type": "code",
   "execution_count": 128,
   "metadata": {},
   "outputs": [
    {
     "name": "stdout",
     "output_type": "stream",
     "text": [
      "Help on function sens_adjoint_end in module extensisq.sensitivity:\n",
      "\n",
      "sens_adjoint_end(fun, t_span, y0, jac, dfdp, dy0dp, p, g, dgdp, dgdy, method=<class 'extensisq.bogacki.BS5'>, rtol=0.001, atol=1e-06, atol_adj=1e-06, atol_quad=1e-06, sol_y=None)\n",
      "    sensitivity for a scalar function of the solution using the adjoint\n",
      "    method.\n",
      "    \n",
      "    Define a function involving time, the solution of the IVP and parameters p:\n",
      "    g(t, y, p). `sens_adjoint_tf` calculates its sensitivity at the end of\n",
      "    the integration interval: dg/dp(tf). See [1]_ for details\n",
      "    \n",
      "    Parameters\n",
      "    ----------\n",
      "    fun : callable\n",
      "        The function of the ODE that is solved with solve_ivp. The calling\n",
      "        signature is fun(t, y, *p). It should return an array of length (ny,).\n",
      "        (Same as for calling solve_ivp)\n",
      "    t_span : 2-tuple of floats\n",
      "        Interval of integration (t0, tf). The solver starts with t=t0 and\n",
      "        integrates until it reaches t=tf. (Same as for calling solve_ivp)\n",
      "    y0 : array_like, shape (ny,)\n",
      "        Initial state. (Same as for calling solve_ivp)\n",
      "    jac : callable\n",
      "        function with signature jac(t, y, *p) that returns the Jacobian\n",
      "        dfun/dy as an array of size (ny,ny). Unlike for solve_ivp, this is not\n",
      "        optional and jac should be callable.\n",
      "    dfdp : callable\n",
      "        function with signature dfdp(t, y, *p) that returns dfun/dp as an\n",
      "        array of size (ny,np).\n",
      "    dy0dp : array_like, shape (ny,np)\n",
      "        Derivative dy0/dp of the initial solution y0 to the parameter p.\n",
      "    p : array_like, shape (np,)\n",
      "        contains the values of the parameters.\n",
      "    g : callable\n",
      "        The function to calculate the sensitivity of, with signature\n",
      "        fun(t, y, *p) -> array of size 1.\n",
      "    dgdp : callable\n",
      "        The derivative of function g to parameters p, with signature\n",
      "        dgdp(t, y, *p) -> array of size np.\n",
      "    dgdy : callable\n",
      "        The derivative of function g to parameters y, with signature\n",
      "        dgdy(t, y, *p) -> array of size ny.\n",
      "    method : solver class or string, optional\n",
      "        The ODE solver that is used. Default: BS5\n",
      "    rtol : float, optional\n",
      "        The relative tolerance for solve_ivp (used for y and sensitivity).\n",
      "        Default: 1e-3.\n",
      "    atol : float, or sequence of length ny, optional\n",
      "        The absolute tolerance for solve_ivp used for solution y.\n",
      "        Default: 1e-6.\n",
      "    atol_adj : float, or sequence of length ny, optional\n",
      "        The absolute tolerance for solve_ivp used for adjoint solution mu,\n",
      "        by default 1e-6\n",
      "    atol_quad : _type_, optional\n",
      "        The absolute tolerance for solve_ivp used for solution of the definite\n",
      "        integral, by default 1e-6\n",
      "    sol_y : OdeResult or None, optional\n",
      "        if an OdeResult of y is already available, including dense output, then\n",
      "        it can be provided and the forward integration will be skipped to save\n",
      "        time. Default None\n",
      "    \n",
      "    Returns\n",
      "    -------\n",
      "    sens : array, shape (np)\n",
      "        The sensitivity dg/dp at the endpoint tf\n",
      "    gf : float\n",
      "        The value of g at tf\n",
      "    sol_y : OdeResult\n",
      "        The solution of the forward solve of y\n",
      "    sol_bw : OdeResult\n",
      "        The solution of the backward solve of mu and the definite integral\n",
      "    \n",
      "    References\n",
      "    ----------\n",
      "    .. [1] R. Serban, A.C. Hindmarsh, \"CVODES: An ODE Solver with Sensitivity\n",
      "           Analysis Capabilities\", 2003\n",
      "\n"
     ]
    }
   ],
   "source": [
    "from extensisq import sens_adjoint_end\n",
    "\n",
    "help(sens_adjoint_end)"
   ]
  },
  {
   "attachments": {},
   "cell_type": "markdown",
   "metadata": {},
   "source": [
    "Most arguments are known from the forward sensitivity. New are `g`, `dgdp`, and `dgdy`, which are all related to the function $g(t, \\boldsymbol{y}, \\boldsymbol{p})$. Lets apply it to the Brusselator problem and simply set g = y[0]."
   ]
  },
  {
   "cell_type": "code",
   "execution_count": 129,
   "metadata": {},
   "outputs": [
    {
     "name": "stdout",
     "output_type": "stream",
     "text": [
      "sensitivity [-0.54511054]\n",
      "gf [0.43866195]\n"
     ]
    }
   ],
   "source": [
    "def g(t, y, p):\n",
    "    return [y[0]]\n",
    "\n",
    "def dgdy(t, y, p):\n",
    "    return np.array([1., 0])\n",
    "\n",
    "def dgdp(t, y, p):\n",
    "    return np.array([0.])\n",
    "\n",
    "sens_ae = sens_adjoint_end(fun, t_span, y0, jac, dfdp, dy0dp, p, g, dgdp, dgdy)\n",
    "\n",
    "print('sensitivity', sens_ae.sens)\n",
    "print('gf', sens_ae.gf)"
   ]
  },
  {
   "attachments": {},
   "cell_type": "markdown",
   "metadata": {},
   "source": [
    "These results are close to those from the forward sensitivity analysis. This example is not a typical case for adjoint sensitivity analysis. It becomes more useful if the number of components in y and/or p is large."
   ]
  },
  {
   "attachments": {},
   "cell_type": "markdown",
   "metadata": {},
   "source": [
    "## Adjoint sensitivity, integral\n",
    "\n",
    "The third and last method calculates the sensitivity of a scalar function that contains the integral:\n",
    "$$ G(\\boldsymbol{p}) = \\int_{t_0}^{t_f} g(t, \\boldsymbol{y}, \\boldsymbol{p}) dt $$\n",
    "\n",
    "Extensisq's function `sens_adjoint_int` can calculate the sensitivity:\n",
    "$$ \\frac{d G}{d \\boldsymbol{p}} = \\boldsymbol{\\lambda}^T(t_0) \\boldsymbol{S}(t_0) + \\int_{t_0}^{t_f} \\left( \\frac{\\partial g}{\\partial \\boldsymbol{p}} + \\lambda^T \\frac{\\partial \\boldsymbol{f}}{\\partial \\boldsymbol{p}} \\right) dt $$\n",
    "\n",
    "And $\\lambda$ is calculated with the final value problem:\n",
    "$$ \\dot{\\boldsymbol{\\lambda}} = -\\left(\\frac{\\partial \\boldsymbol{f}}{\\partial \\boldsymbol{y}}\\right)^T \\lambda - \\left(\\frac{\\partial g}{\\partial \\boldsymbol{y}}\\right)^T, \\qquad \\boldsymbol{\\lambda}(t_f) = \\boldsymbol{0}  $$\n",
    "\n",
    "As with the previous method, this sensitivity is calculated in two steps: a forward solve of $\\boldsymbol{y}$, and a backward solve of $\\boldsymbol{\\lambda}$ and the definite integral.\n",
    "\n",
    "The arguments of `sens_adjoint_int` are the same as for `sens_adjoint_end`, but the output contains G instead of gt:"
   ]
  },
  {
   "cell_type": "code",
   "execution_count": 130,
   "metadata": {},
   "outputs": [
    {
     "name": "stdout",
     "output_type": "stream",
     "text": [
      "Help on function sens_adjoint_int in module extensisq.sensitivity:\n",
      "\n",
      "sens_adjoint_int(fun, t_span, y0, jac, dfdp, dy0dp, p, g, dgdp, dgdy, method=<class 'extensisq.bogacki.BS5'>, rtol=0.001, atol=1e-06, atol_adj=1e-06, atol_quad=1e-06, sol_y=None)\n",
      "    Calculate the sensitivity dG/dp, where G is the integral over t_span of\n",
      "    a function g(t, y, p). See [1]_ for details\n",
      "    \n",
      "    Parameters\n",
      "    ----------\n",
      "    fun : callable\n",
      "        The function of the ODE that is solved with solve_ivp. The calling\n",
      "        signature is fun(t, y, *p). It should return an array of length (ny,).\n",
      "        (Same as for calling solve_ivp)\n",
      "    t_span : 2-tuple of floats\n",
      "        Interval of integration (t0, tf). The solver starts with t=t0 and\n",
      "        integrates until it reaches t=tf. (Same as for calling solve_ivp)\n",
      "    y0 : array_like, shape (ny,)\n",
      "        Initial state. (Same as for calling solve_ivp)\n",
      "    jac : callable\n",
      "        function with signature jac(t, y, *p) that returns the Jacobian\n",
      "        dfun/dy as an array of size (ny,ny). Unlike for solve_ivp, this is not\n",
      "        optional and jac should be callable.\n",
      "    dfdp : callable\n",
      "        function with signature dfdp(t, y, *p) that returns dfun/dp as an\n",
      "        array of size (ny,np).\n",
      "    dy0dp : array_like, shape (ny,np)\n",
      "        Derivative dy0/dp of the initial solution y0 to the parameter p.\n",
      "    p : array_like, shape (np,)\n",
      "        contains the values of the parameters.\n",
      "    g : callable\n",
      "        The integrand of the function to calculate the sensitivity of, with\n",
      "        signature fun(t, y, *p) -> array of size 1.\n",
      "    dgdp : callable\n",
      "        The derivative of function g to parameters p, with signature\n",
      "        dgdp(t, y, *p) -> array of size np.\n",
      "    dgdy : callable\n",
      "        The derivative of function g to parameters y, with signature\n",
      "        dgdy(t, y, *p) -> array of size ny.\n",
      "    method : solver class or string, optional\n",
      "        The ODE solver that is used. Default: BS5\n",
      "    rtol : float, optional\n",
      "        The relative tolerance for solve_ivp (used for y and sensitivity).\n",
      "        Default: 1e-3.\n",
      "    atol : float, or sequence of length ny, optional\n",
      "        The absolute tolerance for solve_ivp used for solution y.\n",
      "        Default: 1e-6.\n",
      "    atol_adj : float, or sequence of length ny, optional\n",
      "        The absolute tolerance for solve_ivp used for adjoint solution lambda,\n",
      "        by default 1e-6\n",
      "    atol_quad : _type_, optional\n",
      "        The absolute tolerance for solve_ivp used for solution of the definite\n",
      "        integral, by default 1e-6\n",
      "    sol_y : OdeResult or None, optional\n",
      "        if an OdeResult of y is already available, including dense output, then\n",
      "        it can be provided and the forward integration will be skipped to save\n",
      "        time. Default None\n",
      "    \n",
      "    Returns\n",
      "    -------\n",
      "    sens : array, shape (np)\n",
      "        The sensitivity dg/dp at the endpoint tf\n",
      "    G : float\n",
      "        The value of G\n",
      "    sol_y : OdeResult\n",
      "        The solution of the forward solve of y\n",
      "    sol_bw : OdeResult\n",
      "        The solution of the backward solve of lambda, the definite integral and\n",
      "        the integral G.\n",
      "    \n",
      "    References\n",
      "    ----------\n",
      "    .. [1] R. Serban, A.C. Hindmarsh, \"CVODES: An ODE Solver with Sensitivity\n",
      "           Analysis Capabilities\", 2003\n",
      "\n"
     ]
    }
   ],
   "source": [
    "from extensisq import sens_adjoint_int\n",
    "\n",
    "help(sens_adjoint_int)"
   ]
  },
  {
   "attachments": {},
   "cell_type": "markdown",
   "metadata": {},
   "source": [
    "We don't have anything to compare it to, but this is how it can be used:"
   ]
  },
  {
   "cell_type": "code",
   "execution_count": 131,
   "metadata": {},
   "outputs": [
    {
     "name": "stdout",
     "output_type": "stream",
     "text": [
      "sensitivity [1.67009471]\n",
      "G 19.347774004898884\n"
     ]
    }
   ],
   "source": [
    "sens_ai = sens_adjoint_int(fun, t_span, y0, jac, dfdp, dy0dp, p, g, dgdp, dgdy)\n",
    "\n",
    "print('sensitivity', sens_ai.sens)\n",
    "print('G', sens_ai.G)"
   ]
  },
  {
   "attachments": {},
   "cell_type": "markdown",
   "metadata": {},
   "source": [
    "## Discussion\n",
    "\n",
    "This notebook has shown the usage and mathematical background of the three functions of sensitivity analysis in extensisq. The forward analysis is most suitable when the sensitivity to all solution components is needed and the number of parameters is not too large. Adjoint sensitivity analysis on the other hand, is suitable when the number of parameters is large, but only the sensitivity to one scalar function of the solution is needed."
   ]
  },
  {
   "attachments": {},
   "cell_type": "markdown",
   "metadata": {},
   "source": [
    "## Appendix: CVODES user manual examples\n",
    "\n",
    "For further validation, I try to reproduce two examples from CVODES' [user manual](https://computing.llnl.gov/sites/default/files/cvs_guide.pdf). This results in boring lists of numbers that can be compared.\n",
    "\n",
    "### Forward sensitivity\n",
    "\n",
    "Compare to sections 8.1 and B.1."
   ]
  },
  {
   "cell_type": "code",
   "execution_count": 132,
   "metadata": {},
   "outputs": [
    {
     "name": "stdout",
     "output_type": "stream",
     "text": [
      "nfev: 1306\n",
      "njev: 29\n",
      "\n",
      "T: 4.00e-01\n",
      "Solution:     \t 9.8517e-01\t 3.3864e-05\t 1.4794e-02\n",
      "Sensitivity 1:\t-3.5595e-01\t 3.9025e-04\t 3.5556e-01\n",
      "Sensitivity 2:\t 9.5416e-08\t-2.1310e-10\t-9.5203e-08\n",
      "Sensitivity 3:\t-1.5831e-11\t-5.2900e-13\t 1.6360e-11\n",
      "\n",
      "T: 4.00e+00\n",
      "Solution:     \t 9.0552e-01\t 2.2405e-05\t 9.4460e-02\n",
      "Sensitivity 1:\t-1.8761e+00\t 1.7921e-04\t 1.8760e+00\n",
      "Sensitivity 2:\t 2.9612e-06\t-5.8308e-10\t-2.9606e-06\n",
      "Sensitivity 3:\t-4.9331e-10\t-2.7625e-13\t 4.9358e-10\n",
      "\n",
      "T: 4.00e+01\n",
      "Solution:     \t 7.1582e-01\t 9.1852e-06\t 2.8417e-01\n",
      "Sensitivity 1:\t-4.2477e+00\t 4.5906e-05\t 4.2477e+00\n",
      "Sensitivity 2:\t 1.3731e-05\t-2.3571e-10\t-1.3731e-05\n",
      "Sensitivity 3:\t-2.2884e-09\t-1.1380e-13\t 2.2885e-09\n",
      "\n",
      "T: 4.00e+02\n",
      "Solution:     \t 4.5051e-01\t 3.2227e-06\t 5.4949e-01\n",
      "Sensitivity 1:\t-5.9585e+00\t 3.5407e-06\t 5.9585e+00\n",
      "Sensitivity 2:\t 2.2739e-05\t-2.2592e-11\t-2.2739e-05\n",
      "Sensitivity 3:\t-3.7898e-09\t-4.9947e-14\t 3.7898e-09\n",
      "\n",
      "T: 4.00e+03\n",
      "Solution:     \t 1.8321e-01\t 8.9430e-07\t 8.1679e-01\n",
      "Sensitivity 1:\t-4.7500e+00\t-5.9926e-06\t 4.7500e+00\n",
      "Sensitivity 2:\t 1.8809e-05\t 2.3122e-11\t-1.8809e-05\n",
      "Sensitivity 3:\t-3.1348e-09\t-1.8759e-14\t 3.1348e-09\n",
      "\n",
      "T: 4.00e+04\n",
      "Solution:     \t 3.8985e-02\t 1.6219e-07\t 9.6101e-01\n",
      "Sensitivity 1:\t-1.5750e+00\t-2.7618e-06\t 1.5750e+00\n",
      "Sensitivity 2:\t 6.2875e-06\t 1.1002e-11\t-6.2875e-06\n",
      "Sensitivity 3:\t-1.0479e-09\t-4.5367e-15\t 1.0479e-09\n",
      "\n",
      "T: 4.00e+05\n",
      "Solution:     \t 4.9372e-03\t 1.9845e-08\t 9.9506e-01\n",
      "Sensitivity 1:\t-2.3629e-01\t-4.5834e-07\t 2.3629e-01\n",
      "Sensitivity 2:\t 9.4485e-07\t 1.8322e-12\t-9.4485e-07\n",
      "Sensitivity 3:\t-1.5748e-10\t-6.3613e-16\t 1.5748e-10\n",
      "\n",
      "T: 4.00e+06\n",
      "Solution:     \t 5.1668e-04\t 2.0678e-09\t 9.9948e-01\n",
      "Sensitivity 1:\t-2.5659e-02\t-5.1049e-08\t 2.5660e-02\n",
      "Sensitivity 2:\t 1.0263e-07\t 2.0418e-13\t-1.0263e-07\n",
      "Sensitivity 3:\t-1.7106e-11\t-6.8493e-17\t 1.7106e-11\n",
      "\n",
      "T: 4.00e+07\n",
      "Solution:     \t 5.2017e-05\t 2.0808e-10\t 9.9995e-01\n",
      "Sensitivity 1:\t-2.5985e-03\t-5.1930e-09\t 2.5985e-03\n",
      "Sensitivity 2:\t 1.0394e-08\t 2.0772e-14\t-1.0394e-08\n",
      "Sensitivity 3:\t-1.7323e-12\t-6.9300e-18\t 1.7324e-12\n",
      "\n",
      "T: 4.00e+08\n",
      "Solution:     \t 5.2044e-06\t 2.0818e-11\t 9.9999e-01\n",
      "Sensitivity 1:\t-2.6018e-04\t-5.2028e-10\t 2.6019e-04\n",
      "Sensitivity 2:\t 1.0407e-09\t 2.0812e-15\t-1.0402e-09\n",
      "Sensitivity 3:\t-1.7344e-13\t-6.9378e-19\t 1.7358e-13\n",
      "\n",
      "T: 4.00e+09\n",
      "Solution:     \t 5.1897e-07\t 2.0759e-12\t 1.0000e+00\n",
      "Sensitivity 1:\t-2.5887e-05\t-5.1651e-11\t 2.8217e-05\n",
      "Sensitivity 2:\t 1.0466e-10\t 2.1104e-16\t-1.4180e-10\n",
      "Sensitivity 3:\t-1.6923e-14\t-6.7692e-20\t 3.1633e-14\n",
      "\n",
      "T: 4.00e+10\n",
      "Solution:     \t 5.2132e-08\t 2.0853e-13\t 1.0000e+00\n",
      "Sensitivity 1:\t-9.0237e-06\t-3.0882e-11\t-6.8299e-05\n",
      "Sensitivity 2:\t 1.0981e-11\t 2.3073e-17\t-1.0405e-11\n",
      "Sensitivity 3:\t-1.7340e-15\t-6.9359e-21\t 1.6441e-14\n"
     ]
    }
   ],
   "source": [
    "def fun(t, y, *p):\n",
    "    y1, y2, y3 = y\n",
    "    p1, p2, p3 = p\n",
    "    return np.array([-p1*y1 + p2*y2*y3,\n",
    "                      p1*y1 - p2*y2*y3 - p3*y2**2,\n",
    "                                         p3*y2**2])\n",
    "\n",
    "def jac(t, y, *p):\n",
    "    y1, y2, y3 = y\n",
    "    p1, p2, p3 = p\n",
    "    return np.array([[-p1, p2*y3, p2*y2],\n",
    "                     [p1, -p2*y3 - 2*p3*y2, -p2*y2],\n",
    "                     [0., 2*p3*y2, 0.]])\n",
    "\n",
    "def dfdp(t, y, *p):\n",
    "    y1, y2, y3 = y\n",
    "    p1, p2, p3 = p\n",
    "    return np.array([[-y1, y2*y3, 0.],\n",
    "                     [y1, -y2*y3, -y2**2],\n",
    "                     [0., 0., y2**2]])\n",
    "\n",
    "y0 = np.array([1., 0., 0.])\n",
    "t_eval = 4 * 10. ** np.arange(-1, 11)\n",
    "t_span = (0., t_eval[-1])\n",
    "\n",
    "p = (0.04, 1e4, 3e7)\n",
    "dy0dp = np.zeros([3, 3])\n",
    "\n",
    "rtol = 1e-4\n",
    "atol = np.array([1e-8, 1e-14, 1e-6])\n",
    "\n",
    "sens, yf, sol = sens_forward(fun, t_span, y0, jac, dfdp, dy0dp, p=p,\n",
    "                             method='BDF', rtol=rtol, atol=atol,\n",
    "                             t_eval=t_eval, use_approx_jac=False)\n",
    "\n",
    "print('nfev:', sol.nfev)\n",
    "print('njev:', sol.njev)\n",
    "\n",
    "for t, y in zip(sol.t, sol.y.T):\n",
    "    print(f'\\nT: {t:8.2e}')\n",
    "    print(f'Solution:     \\t{y[0]:>11.4e}\\t{y[1]:>11.4e}\\t{y[2]:>11.4e}')\n",
    "    print(f'Sensitivity 1:\\t{y[3]:>11.4e}\\t{y[4]:>11.4e}\\t{y[5]:>11.4e}')\n",
    "    print(f'Sensitivity 2:\\t{y[6]:>11.4e}\\t{y[7]:>11.4e}\\t{y[8]:>11.4e}')\n",
    "    print(f'Sensitivity 3:\\t{y[9]:>11.4e}\\t{y[10]:>11.4e}\\t{y[11]:>11.4e}')\n"
   ]
  },
  {
   "attachments": {},
   "cell_type": "markdown",
   "metadata": {},
   "source": [
    "This problem needs an implicit solver like LSODA, BDF or Radau. All these methods work if `use_approx_jac == False` and only \"LSODA\" seems to work well with an approximate jacobian: `use_approx_jac == True`.\n",
    "\n",
    "The listed numbers are close to those reported in the user manual, considering that a different solver is used.\n",
    "\n",
    "### Adjoint sensitivity (integral)\n",
    "\n",
    "Compare to sections 9.1 and C.1."
   ]
  },
  {
   "cell_type": "code",
   "execution_count": 133,
   "metadata": {},
   "outputs": [
    {
     "name": "stdout",
     "output_type": "stream",
     "text": [
      "G:\t\t 1.8194e+04\n",
      "sensitivity:\t-7.8275e+05\t 3.1959e+00\t-5.3264e-04\n",
      "lambda0:\t 3.4196e+04\t 3.4157e+04\t 3.4156e+04\n"
     ]
    }
   ],
   "source": [
    "def g(t, y, *p):\n",
    "    y1, y2, y3 = y\n",
    "    p1, p2, p3 = p\n",
    "    return [y1 + p2*y2*y3]\n",
    "\n",
    "def dgdy(t, y, *p):\n",
    "    y1, y2, y3 = y\n",
    "    p1, p2, p3 = p\n",
    "    return np.array([1., p2*y3, p2*y2])\n",
    "\n",
    "def dgdp(t, y, *p):\n",
    "    y1, y2, y3 = y\n",
    "    p1, p2, p3 = p\n",
    "    return np.array([0., y2*y3, 0.])\n",
    "\n",
    "t_span = (0., 4e7)\n",
    "atol_adj = 1e-5\n",
    "atol_quad = 1e-6\n",
    "\n",
    "sens, G, sol_y, sol_bw = sens_adjoint_int(\n",
    "    fun, t_span, y0, jac, dfdp, dy0dp, p, g, dgdp, dgdy, method='BDF',\n",
    "    atol=atol, rtol=rtol, atol_quad=atol_quad, atol_adj=atol_adj)\n",
    "lambda0 = sol_bw.y[:3, -1]\n",
    "print(f'G:\\t\\t{G:>11.4e}')\n",
    "print(f'sensitivity:\\t{sens[0]:>11.4e}\\t{sens[1]:>11.4e}\\t{sens[2]:>11.4e}')\n",
    "print(f'lambda0:\\t{lambda0[0]:>11.4e}\\t{lambda0[1]:>11.4e}\\t{lambda0[2]:>11.4e}')"
   ]
  },
  {
   "cell_type": "markdown",
   "metadata": {},
   "source": [
    "These results are also close to what is reported in the CVODES user manual."
   ]
  }
 ],
 "metadata": {
  "kernelspec": {
   "display_name": "dev_extensisq",
   "language": "python",
   "name": "python3"
  },
  "language_info": {
   "codemirror_mode": {
    "name": "ipython",
    "version": 3
   },
   "file_extension": ".py",
   "mimetype": "text/x-python",
   "name": "python",
   "nbconvert_exporter": "python",
   "pygments_lexer": "ipython3",
   "version": "3.10.10"
  },
  "orig_nbformat": 4,
  "vscode": {
   "interpreter": {
    "hash": "833bf39955edf584fc9acac7f908f192d651332122fd4f585265fc62ce0e7fa1"
   }
  }
 },
 "nbformat": 4,
 "nbformat_minor": 2
}
