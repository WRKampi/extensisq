{
 "cells": [
  {
   "attachments": {},
   "cell_type": "markdown",
   "metadata": {},
   "source": [
    "# Special method `SSV2stab` for large, mildly stiff problems\n",
    "\n",
    "`SSV2stab` is based on the stabilized Runge-Kutta-Chebyshev method of [Sommeijer, Shampine and Verwer](https://doi.org/10.1016/S0377-0427(97)00219-7). It is similar to the Fortran code [RKC](https://www.netlib.org/ode/), but translated to Python and adapted to Scipy's solve_ivp.\n",
    "\n",
    "Stiff problems cannot be solved efficiently by explicit methods. In many relevant cases, stiffness is caused by a negative real pole far from the origin. Very small steps are needed with an explicit method to keep this pole inside the stability region. The trick of the `SSV2stab` is that it has a variable number of stages per step. The stability region stretches quadratically along the negative real axis with the number of stages. Therefore, it is more efficient to include more stages than to take smaller steps. Step size is also variable such that accuracy can be controlled.\n",
    "\n",
    "This explicit method has a fixed order of 2. This is appropriate because the order of the spatial discretization is typically limited too. It is not useful to have a very low error due to time discretization if the error due to space discretization is much larger. Therefore, relatively coarse steps are OK and a low order method is efficient for this.\n",
    "\n",
    "So why not just use an implicit method like `BDF`? Implicit methods need to solve linear systems with the Jacobian of the ODE. This is costly if the system is large, even though very good sparse methods are available. Therefore, implicit methods need to take larger steps to compensate for the extra cost per step, to be competitive. Although implicit method remain stable, they do loose accuracy with larger step size. So step size is typically limited by accuracy and explicit methods can be more efficient.\n",
    "\n",
    "There are limits to this of course. The problem could be too stiff and that stiffness could be negligible for the solution. If this is the case, or if the problem is small, an implicit method would probably work better.\n",
    "\n",
    "One more remark before the demonstration of the method: the constraints of scipy's `solve_ivp` do not favor large problems. The complete solution is kept in memory. Writing previous time steps to disk is not possible. Further development to overcome this and perhaps with numba to improve performance may be needed to make this method really useful for the case it was designed for by Sommeijer. Though then it may be easier to just use the original Fortran code instead.\n",
    "\n",
    "This notebook needs more memory and calculation time than usual.\n",
    "\n",
    "## Combustion problem\n",
    "\n",
    "The problems from the [paper](https://doi.org/10.1016/S0377-0427(97)00219-7) are reproduced. We start with the second one, a combustion problem with concentration $c$ and temperature $T$ fields PDEs:\n",
    "\n",
    "$$ \\dot{c} = \\Delta c - D c e^{-\\delta / T}, \\qquad L \\dot{T} = \\Delta T - \\alpha D c e^{-\\delta / T} $$\n",
    "\n",
    "The model geometry is the unit cube and spatial discretization is done with finite differences with 40 points in each direction. This results in $ 2 \\times 40^3 = 128000 $ degrees of freedom and equations.\n",
    "\n",
    "Initially both fields equal 1. Dirichlet boundary conditions are applied at $x, y, z = 1$ and Neumann boundary conditions at $x, y, z = 0$, to model symmetry.\n",
    "\n",
    "This problem is coded with array operations and 3D arrays with extra nodes to apply the boundary conditions. The discretization along one direction looks like: \n",
    "\n",
    "$$ \\times-|-\\times--\\times--\\times--\\times--|\\times $$\n",
    "\n",
    "with nodes $\\times$ and boundaries $|$. The Neumann boundary at the left is halfway the nodes and the Dirichlet boundary at the right is at the last node. Only the $N=4$ nodes between the boundaries are degrees of freedom for the discretized ODE. The spacing between the nodes is $h=1/(N+0.5)$. For the actual problem we will use N=40, as mentioned."
   ]
  },
  {
   "cell_type": "code",
   "execution_count": 10,
   "metadata": {},
   "outputs": [],
   "source": [
    "import numpy as np\n",
    "\n",
    "L = 0.9                                     # Lewis Number\n",
    "alpha = 1.                                  # heat release\n",
    "delta = 20.                                 # activation energy\n",
    "R = 5.                                      # reaction rate\n",
    "D = R * np.exp(delta) / (alpha * delta)     # Damkohler number\n",
    "args = (L, alpha, delta, D)\n",
    "\n",
    "N = 40\n",
    "\n",
    "# expanded work arrays\n",
    "_c = np.ones((N+2, N+2, N+2))\n",
    "_T = np.ones((N+2, N+2, N+2))\n",
    "\n",
    "def Lap(A, h):\n",
    "    \"\"\"Return Laplacian from finite differences\"\"\"\n",
    "    lap = (1. / h**2) * (-6 * A[1:-1, 1:-1, 1:-1] +\n",
    "           A[:-2, 1:-1, 1:-1] + A[2:, 1:-1, 1:-1] + \n",
    "           A[1:-1, :-2, 1:-1] + A[1:-1, 2:, 1:-1] + \n",
    "           A[1:-1, 1:-1, :-2] + A[1:-1, 1:-1, 2:] )\n",
    "    return lap\n",
    "\n",
    "def fun(t, y, L, alpha, delta, D, _c=_c, _T=_T, N=N):\n",
    "    c = y[:N**3].reshape(N, N, N)\n",
    "    T = y[N**3:].reshape(N, N, N)\n",
    "    \n",
    "    # fill work arrays with current solution\n",
    "    _c[1:-1, 1:-1, 1:-1] = c\n",
    "    _T[1:-1, 1:-1, 1:-1] = T\n",
    "    \n",
    "    # Neumann BCs\n",
    "    _c[0, :, :] = _c[1, :, :]\n",
    "    _c[:, 0, :] = _c[:, 1, :]\n",
    "    _c[:, :, 0] = _c[:, :, 1]\n",
    "    _T[0, :, :] = _T[1, :, :]\n",
    "    _T[:, 0, :] = _T[:, 1, :]\n",
    "    _T[:, :, 0] = _T[:, :, 1]\n",
    "    # (Dirichlet BCs are constant)\n",
    "    \n",
    "    Dce = D * c * np.exp(-delta / T)\n",
    "    h = 1. / (N + 0.5)\n",
    "    \n",
    "    # ODEs from discretized PDEs\n",
    "    dc = Lap(_c, h) - Dce\n",
    "    dT = (Lap(_T, h) + alpha * Dce)/L\n",
    "    \n",
    "    return np.concatenate([dc.reshape(-1),\n",
    "                           dT.reshape(-1)])"
   ]
  },
  {
   "attachments": {},
   "cell_type": "markdown",
   "metadata": {},
   "source": [
    "The first solve will be for a slightly longer interval than in the paper to show the boundary layers at the end of the solution."
   ]
  },
  {
   "cell_type": "code",
   "execution_count": 11,
   "metadata": {},
   "outputs": [],
   "source": [
    "from scipy.integrate import solve_ivp\n",
    "from extensisq import SSV2stab\n",
    "\n",
    "t_span = [0, 0.33]      # boundary layers at 0.33, not at 0.3\n",
    "y0 = np.ones(2*N**3)\n",
    "tol = 1e-4\n",
    "t_eval = [0.2, 0.25, 0.3, 0.31, 0.32, 0.33]\n",
    "\n",
    "sol = solve_ivp(fun, t_span, y0, method=SSV2stab, rtol=tol, atol=tol, \n",
    "                args=args, t_eval=t_eval)"
   ]
  },
  {
   "attachments": {},
   "cell_type": "markdown",
   "metadata": {},
   "source": [
    "The output times in `t_eval` are chosen to show the evolution of the solution. Notice that the steps are more concentrated near the end. In the first few steps, the temperature increases, then combustions occurs at the origin. A sharp front travels quickly to the Dirichlet boundaries. Finally a steady state develops with boundary layers. This is the temperature field in the $x=0$ plane (and without the boundary nodes):"
   ]
  },
  {
   "cell_type": "code",
   "execution_count": 12,
   "metadata": {},
   "outputs": [
    {
     "data": {
      "image/png": "[encoded data removed]",
      "text/plain": [
       "<Figure size 900x600 with 7 Axes>"
      ]
     },
     "metadata": {},
     "output_type": "display_data"
    }
   ],
   "source": [
    "import matplotlib.pyplot as plt\n",
    "\n",
    "levels = np.linspace(1, 2.1, 12)\n",
    "fig, axs = plt.subplots(2, 3, figsize=(9,6))\n",
    "for t, s, ax in zip(t_eval, sol.y.T, axs.flatten()):\n",
    "    M = s[N**3:].reshape(N, N, N)[0,:,:]\n",
    "    ct = ax.contourf(M, levels=levels, cmap='inferno')\n",
    "    # ax.colorbar(ticks=levels, label='temperature')\n",
    "    ax.set_xticks([])\n",
    "    ax.set_yticks([])\n",
    "    ax.set_title(f'time: {t}')\n",
    "\n",
    "cax = plt.axes([0.15, 0, 0.72, 0.02])\n",
    "plt.colorbar(ct, cax=cax, label='temperature field', orientation='horizontal',\n",
    "             ticks=levels)\n",
    "plt.show()"
   ]
  },
  {
   "attachments": {},
   "cell_type": "markdown",
   "metadata": {},
   "source": [
    "We see boundary layer develop after $t=0.32$. The paper mentions that there are already boundary layers at $t=0.3$. So is the problem modelled correctly, and does `SSV2stab` work well? To find out, I will repeat the calculations of the paper.\n",
    "\n",
    "First calculate an accurate reference solution."
   ]
  },
  {
   "cell_type": "code",
   "execution_count": 13,
   "metadata": {},
   "outputs": [],
   "source": [
    "t_span = [0, 0.30]      # reduce to interval from paper\n",
    "\n",
    "tol = 1e-8\n",
    "ref = solve_ivp(fun, t_span, y0, method=SSV2stab, rtol=tol, atol=tol, \n",
    "                args=args, t_eval=[0.3]).y[:,-1]"
   ]
  },
  {
   "attachments": {},
   "cell_type": "markdown",
   "metadata": {},
   "source": [
    "Now solve for a range of tolerances:"
   ]
  },
  {
   "cell_type": "code",
   "execution_count": 14,
   "metadata": {},
   "outputs": [
    {
     "name": "stdout",
     "output_type": "stream",
     "text": [
      " Tol\tError\t Steps \tf-evals\taverage\tf-sigma\t CPU\ts-max\n",
      "1e-04\t0.54\t 51 (1)\t  525\t 10.3 \t  21\t 4.2\t 36\n",
      "1e-05\t0.18\t124 (0)\t  781\t  6.3 \t  27\t 8.3\t 29\n",
      "1e-06\t0.037\t270 (0)\t 1270\t  4.7 \t  39\t10.0\t 20\n",
      "1e-07\t0.0068\t581 (0)\t 2147\t  3.7 \t  65\t13.8\t 14\n"
     ]
    }
   ],
   "source": [
    "from extensisq.sommeijer import maxm, NFS, nfesig\n",
    "from time import perf_counter\n",
    "\n",
    "# now solve for a range of tolerances:\n",
    "tols = np.logspace(-4, -7, 4)\n",
    "\n",
    "print(' Tol\\tError\\t Steps \\tf-evals\\taverage\\tf-sigma\\t CPU\\ts-max')\n",
    "for tol in tols:\n",
    "    timer = perf_counter()\n",
    "    sol = solve_ivp(fun, t_span, y0, method=SSV2stab, rtol=tol, atol=tol, \n",
    "                    args=args)\n",
    "    cpu = perf_counter() - timer\n",
    "    err = np.abs(sol.y[:, -1] - ref).max()\n",
    "    nfs = NFS[()]\n",
    "    nsteps = sol.t.size - 1 + nfs\n",
    "    nfev = sol.nfev\n",
    "    avg = nfev/nsteps\n",
    "    print(f'{tol:.0e}\\t{err:.2g}\\t{nsteps:>3} ({NFS[()]})\\t {nfev:>4}\\t'\n",
    "          f' {avg:>4.1f} \\t  {nfesig}\\t{cpu:>4.1f}\\t {maxm[()]}')"
   ]
  },
  {
   "attachments": {},
   "cell_type": "markdown",
   "metadata": {},
   "source": [
    "The table shows for the different tolerances: the max error, the number of steps (failed steps in parenthesis), the number of function evaluations for the steps, the average number of evaluations per step, the number of function evaluations that were used for detection of the spectral radius the cpu time and the maximum number of stages per step.\n",
    "\n",
    "The results show that higher accuracy results in more steps, but also in fewer evaluations per step. This is expected, because the stability region scales with step size. So the total cost of the integration increases with higher accuracy, but the cost per step reduces. The number of function evaluations to estimate the spectral radius (f-sigma) increases though. Apparently the spectral radius is estimated more often. (The code estimates it after each failed step and after 25 successful steps.)\n",
    "\n",
    "Comparing this to Table 3 in the [paper](https://doi.org/10.1016/S0377-0427(97)00219-7), we see that only the CPU column, and the error for stricter tolerances are different. Furthermore, the maximum number of stages (last column) conforms to the maximum in Figure 2 of the paper (20 for tolerance 1e-6). This is quite strong evidence that the method works as it should, despite the late appearance of the boundary conditions in the solution observed earlier.\n",
    "\n",
    "## Heat transfer problem\n",
    "\n",
    "The other problem from the paper is a linear heat transfer problem. This problem is repeated as well, because it shows some special arguments that make the solver more efficient in some cases:\n",
    "* 'rho_jac': The user can supply a function f(t, y) that returns the spectral radius as a float, or a conservative estimate of it. This saves on functions evaluations to estimate it (column 'f-sigma' above).\n",
    "* 'const_jac': Let the method know when the Jacobian, and therefore the spectral radius, is constant. This is True for linear problems by definition. When rho_jac is defined, it is called each step if const_jac is False.\n",
    "\n",
    "This problem has Dirichlet boundary conditions all around. Therefore the grid looks like:\n",
    "$$ \\times|--\\times--\\times--\\times--\\times--|\\times $$\n",
    "And the node spacing is $h=1/(N+1)$. The problem is solved in a similar way as before.\n",
    "\n",
    "Solution is the analytic solution of the *continuous* problem.\n",
    "\n",
    "New is the rho_jac function that estimates the spectral radius using [Gershgorin circle theorem](https://en.wikipedia.org/wiki/Gershgorin_circle_theorem). The cost of evaluation this function is clearly negligible."
   ]
  },
  {
   "cell_type": "code",
   "execution_count": 15,
   "metadata": {},
   "outputs": [],
   "source": [
    "def solution(x, y, z, t):\n",
    "    \"\"\"solution of the continuous problem\"\"\"\n",
    "    return np.tanh(5*x + 10*y + 7.5*z - (2.5 + 5*t))\n",
    "\n",
    "def f(x, y, z, t):\n",
    "    \"\"\"heat source\"\"\"\n",
    "    s = solution(x, y, z, t)\n",
    "    return 362.5*(s - s**3) + 5*s**2 - 5\n",
    "\n",
    "N = 39\n",
    "x = np.linspace(0., 1., N+2)\n",
    "y = np.linspace(0., 1., N+2)\n",
    "z = np.linspace(0., 1., N+2)\n",
    "X, Y, Z = np.meshgrid(x, y, z)\n",
    "Twork = solution(X, Y, Z, 0)\n",
    "y0 = Twork[1:-1, 1:-1, 1:-1].copy().reshape(-1)\n",
    "\n",
    "def fun(t, y, work=Twork, X=X, Y=Y, Z=Z, N=N):\n",
    "    \"\"\"derivative function\"\"\"\n",
    "    \n",
    "    # apply BCs all around (Dirichlet only)\n",
    "    work[0,:,:] = solution(X[0,:,:], Y[0,:,:], Z[0,:,:], t)\n",
    "    work[-1,:,:] = solution(X[-1,:,:], Y[-1,:,:], Z[-1,:,:], t)\n",
    "    work[:,0,:] = solution(X[:,0,:], Y[:,0,:], Z[:,0,:], t)\n",
    "    work[:,-1,:] = solution(X[:,-1,:], Y[:,-1,:], Z[:,-1,:], t)\n",
    "    work[:,:,0] = solution(X[:,:,0], Y[:,:,0], Z[:,:,0], t)\n",
    "    work[:,:,-1] = solution(X[:,:,-1], Y[:,:,-1], Z[:,:,-1], t)\n",
    "    \n",
    "    # insert current values of dofs\n",
    "    work[1:-1, 1:-1, 1:-1] = y.reshape(N, N, N)\n",
    "    \n",
    "    # calculate derivative\n",
    "    h = 1./(N + 1.)\n",
    "    dy = Lap(Twork, h) + f(X, Y, Z, t)[1:-1, 1:-1, 1:-1]\n",
    "    \n",
    "    return dy.reshape(-1)\n",
    "\n",
    "def rho_jac(t, y, N=N):\n",
    "    \"\"\"spectral radius estimate\"\"\"\n",
    "    h = 1./(N + 1.)\n",
    "    return 12 / h**2"
   ]
  },
  {
   "attachments": {},
   "cell_type": "markdown",
   "metadata": {},
   "source": [
    "We again need a reference solution of the discrete problem with the $N$ value that we use. This is needed because it is not the same as the know analytic continuous solution."
   ]
  },
  {
   "cell_type": "code",
   "execution_count": 16,
   "metadata": {},
   "outputs": [],
   "source": [
    "tol = 1e-8\n",
    "t_span = (0, 0.7)\n",
    "\n",
    "ref = solve_ivp(fun, t_span, y0, method=SSV2stab, rtol=tol, atol=tol,\n",
    "                const_jac=True, rho_jac=rho_jac, t_eval=[0.7]).y[:,-1]"
   ]
  },
  {
   "attachments": {},
   "cell_type": "markdown",
   "metadata": {},
   "source": [
    "Next, we solve for a range of tolerances and create a table that compares the results."
   ]
  },
  {
   "cell_type": "code",
   "execution_count": 17,
   "metadata": {},
   "outputs": [
    {
     "name": "stdout",
     "output_type": "stream",
     "text": [
      " Tol\t Error\t Steps \tf-evals\taverage\tf-sigma\t CPU\ts-max\terror-c\n",
      "1e-01\t8.9e-03\t  6 (1)\t  402\t 67.0 \t  0\t 2.8\t 132\t 0.011 \n",
      "1e-02\t1.7e-03\t 15 (4)\t  729\t 48.6 \t  0\t 5.4\t 85\t 0.0043\n",
      "1e-03\t3.7e-04\t 27 (2)\t  786\t 29.1 \t  0\t 8.5\t 40\t 0.0037\n",
      "1e-04\t3.9e-05\t 57 (0)\t 1087\t 19.1 \t  0\t15.3\t 26\t 0.0036\n",
      "1e-05\t4.3e-06\t129 (1)\t 1682\t 13.0 \t  0\t24.3\t 20\t 0.0036\n",
      "1e-06\t6.5e-07\t262 (0)\t 2445\t  9.3 \t  0\t22.2\t 12\t 0.0036\n"
     ]
    }
   ],
   "source": [
    "# now solve for a range of tolerances:\n",
    "tols = np.logspace(-1, -6, 6)\n",
    "solc = solution(X, Y, Z, 0.7)[1:-1,1:-1,1:-1].reshape(-1)\n",
    "\n",
    "print(' Tol\\t Error\\t Steps \\tf-evals\\taverage\\tf-sigma\\t CPU\\ts-max\\terror-c')\n",
    "for tol in tols:\n",
    "    timer = perf_counter()\n",
    "    sol = solve_ivp(fun, t_span, y0, method=SSV2stab, rtol=tol, atol=tol, \n",
    "                    const_jac=True, rho_jac=rho_jac, dense_output=True)\n",
    "    cpu = perf_counter() - timer\n",
    "    err = np.abs(sol.y[:, -1] - ref).max()\n",
    "    nfs = NFS[()]\n",
    "    nsteps = sol.t.size - 1 + nfs\n",
    "    nfev = sol.nfev\n",
    "    avg = nfev/nsteps\n",
    "    err2 = np.abs(sol.y[:, -1] - solc).max()\n",
    "    print(f'{tol:.0e}\\t{err:6.1e}\\t{nsteps:>3} ({NFS[()]})\\t {nfev:>4}\\t'\n",
    "          f' {avg:>4.1f} \\t  {nfesig}\\t{cpu:>4.1f}\\t {maxm[()]}\\t {err2:<6.2}')"
   ]
  },
  {
   "attachments": {},
   "cell_type": "markdown",
   "metadata": {},
   "source": [
    "This table can be compared to Table 1 in the paper. It is identical except for the CPU column. The f-sigma column is added to show that no evaluation are needed for the spectral radius estimate anymore if `rho_jac` is given.\n",
    "\n",
    "The error-c column is also interesting. It is the error with respect to the continuous solution (the 'Error' column is regarding the discrete solution). The error-c plateaus at 0.0036. This drives home the point that was made in the introduction that high accuracy is typically not useful in typical method of lines problems. A tolerance between 1e-2 and 1e-3 seems optimal for this problem with $N=40$. For more accuracy, $N$ should be increased next to lowering `tol`. This results in much higher computational costs, because the number of DOFs scale with $N^3$.\n",
    "\n",
    "## Conclusions\n",
    "\n",
    "`SSV2stab` is an interesting method that stretches the stability domain in order to solve mildly stiff problems explicitly. It is most useful for larger problems such as those discretized PDE's (method of lines). This type of problems is arguably not the best fit for solve_ivp, or even for Python in general, but extensisq's `SSV2stab` may be useful for some experimentation and development nevertheless."
   ]
  }
 ],
 "metadata": {
  "kernelspec": {
   "display_name": "dev_extensisq",
   "language": "python",
   "name": "python3"
  },
  "language_info": {
   "codemirror_mode": {
    "name": "ipython",
    "version": 3
   },
   "file_extension": ".py",
   "mimetype": "text/x-python",
   "name": "python",
   "nbconvert_exporter": "python",
   "pygments_lexer": "ipython3",
   "version": "3.10.8"
  },
  "orig_nbformat": 4,
  "vscode": {
   "interpreter": {
    "hash": "833bf39955edf584fc9acac7f908f192d651332122fd4f585265fc62ce0e7fa1"
   }
  }
 },
 "nbformat": 4,
 "nbformat_minor": 2
}
